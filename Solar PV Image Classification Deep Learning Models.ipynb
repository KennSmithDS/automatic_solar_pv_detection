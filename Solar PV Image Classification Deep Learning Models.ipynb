{
 "cells": [
  {
   "cell_type": "markdown",
   "metadata": {},
   "source": [
    "## CS8982 Solar PV Detection Project - Final Deep Learning Model Presentation"
   ]
  },
  {
   "cell_type": "markdown",
   "metadata": {},
   "source": [
    "This notebook is a clean version of the notebook that was used to test a variety of different deep learning frameworks for the binary image classification problem of detecting solar panels from high resolution orthoimagery (HRO). The HRO images were obtained from the USGS Earth Explorer sampled from various places in the San Francisco Bay area with Contra Costa county. Each scene from the USGS is 1ft (or .3m) resolution per pixel, and standard 5,000x5,000 pixel space. Each of these scenes were split into 2500 tiles of 100x100 pixels space in order to be annotated with binary labels, either having a solar panel present or not. A total of ~27,000 images were randomly sampled and annotated, creating 688 positive labels, and over 26,000 negative labels.\n",
    "\n",
    "Three trial runs were performed with different splits between negative and positive labels:\n",
    "\n",
    "1) 10:1\n",
    "\n",
    "2) 100:3 (original rate of positive label discovery)\n",
    "\n",
    "3) 1:1\n",
    "\n",
    "Various deep learning models were trained as seen below using a basic Sequential model, as well as popular frameworks that are very deep, e.g. 20 to over 100 hidden layers."
   ]
  },
  {
   "cell_type": "markdown",
   "metadata": {},
   "source": [
    "#### Import required libraries"
   ]
  },
  {
   "cell_type": "code",
   "execution_count": 2,
   "metadata": {},
   "outputs": [],
   "source": [
    "import os\n",
    "import numpy as np\n",
    "import pandas as pd\n",
    "import imageio\n",
    "from tqdm import tqdm\n",
    "import matplotlib.pyplot as plt\n",
    "import tensorflow as tf\n",
    "# from keras import backend as K\n",
    "from tensorflow.python.client import device_lib\n",
    "from tensorflow.keras import Sequential\n",
    "from tensorflow import keras\n",
    "from tensorflow.keras import layers\n",
    "from tensorflow.keras.layers import Dense, Conv2D, MaxPool2D, Flatten, AvgPool2D\n",
    "from tensorflow.keras.preprocessing.image import ImageDataGenerator\n",
    "from sklearn.model_selection import train_test_split\n",
    "from sklearn.metrics import classification_report\n",
    "import kerastuner as kt\n",
    "from kerastuner.tuners import RandomSearch"
   ]
  },
  {
   "cell_type": "markdown",
   "metadata": {},
   "source": [
    "### Observe Tensorflow version and GPU is visible"
   ]
  },
  {
   "cell_type": "markdown",
   "metadata": {},
   "source": [
    "These two cells just validate the Tensorflow version installed, and that Tensorflow can see the CPU and GPU devices"
   ]
  },
  {
   "cell_type": "code",
   "execution_count": 2,
   "metadata": {},
   "outputs": [
    {
     "data": {
      "text/plain": [
       "'2.3.1'"
      ]
     },
     "execution_count": 2,
     "metadata": {},
     "output_type": "execute_result"
    }
   ],
   "source": [
    "tf.__version__"
   ]
  },
  {
   "cell_type": "code",
   "execution_count": 3,
   "metadata": {},
   "outputs": [
    {
     "name": "stdout",
     "output_type": "stream",
     "text": [
      "[name: \"/device:CPU:0\"\n",
      "device_type: \"CPU\"\n",
      "memory_limit: 268435456\n",
      "locality {\n",
      "}\n",
      "incarnation: 5642190034637556104\n",
      ", name: \"/device:XLA_CPU:0\"\n",
      "device_type: \"XLA_CPU\"\n",
      "memory_limit: 17179869184\n",
      "locality {\n",
      "}\n",
      "incarnation: 16565787184366753094\n",
      "physical_device_desc: \"device: XLA_CPU device\"\n",
      ", name: \"/device:GPU:0\"\n",
      "device_type: \"GPU\"\n",
      "memory_limit: 4951408640\n",
      "locality {\n",
      "  bus_id: 1\n",
      "  links {\n",
      "  }\n",
      "}\n",
      "incarnation: 1103030964701983909\n",
      "physical_device_desc: \"device: 0, name: GeForce RTX 2060, pci bus id: 0000:01:00.0, compute capability: 7.5\"\n",
      ", name: \"/device:XLA_GPU:0\"\n",
      "device_type: \"XLA_GPU\"\n",
      "memory_limit: 17179869184\n",
      "locality {\n",
      "}\n",
      "incarnation: 16350516486517801030\n",
      "physical_device_desc: \"device: XLA_GPU device\"\n",
      "]\n"
     ]
    }
   ],
   "source": [
    "print(device_lib.list_local_devices())"
   ]
  },
  {
   "cell_type": "code",
   "execution_count": 4,
   "metadata": {},
   "outputs": [
    {
     "name": "stdout",
     "output_type": "stream",
     "text": [
      "[PhysicalDevice(name='/physical_device:GPU:0', device_type='GPU')]\n"
     ]
    }
   ],
   "source": [
    "print(tf.config.list_physical_devices('GPU'))"
   ]
  },
  {
   "cell_type": "markdown",
   "metadata": {},
   "source": [
    "### Configure image data generators and flow directories"
   ]
  },
  {
   "cell_type": "markdown",
   "metadata": {},
   "source": [
    "As mentioned above, three different splits between train and validation sets were experimented with. In the end, an equal 1:1 split between train and validation appeared to yield the best results. Below the flow from directory methods were pulled from the balanced dataset folders."
   ]
  },
  {
   "cell_type": "code",
   "execution_count": 4,
   "metadata": {},
   "outputs": [
    {
     "name": "stderr",
     "output_type": "stream",
     "text": [
      "c:\\users\\kenns\\miniconda3\\envs\\gpu_env\\lib\\site-packages\\keras_preprocessing\\image\\image_data_generator.py:337: UserWarning: This ImageDataGenerator specifies `zca_whitening`, which overrides setting of `featurewise_center`.\n",
      "  warnings.warn('This ImageDataGenerator specifies '\n"
     ]
    }
   ],
   "source": [
    "train_gen = ImageDataGenerator(\n",
    "    rescale=1./255,\n",
    "    zca_whitening=True,\n",
    "#     zca_epsilon=0.1, # default 0.000001\n",
    "#     featurewise_std_normalization=True,\n",
    "#     rotation_range=90,\n",
    "#     fill_mode=\"nearest\",\n",
    "#     width_shift_range=0.1,\n",
    "#     height_shift_range=0.1,\n",
    "#     zoom_range=0.2,\n",
    "    horizontal_flip=True,\n",
    "    vertical_flip=True,\n",
    "#     validation_split=0.2\n",
    ")\n",
    "valid_gen = ImageDataGenerator(rescale=1./255)"
   ]
  },
  {
   "cell_type": "code",
   "execution_count": 5,
   "metadata": {},
   "outputs": [
    {
     "name": "stdout",
     "output_type": "stream",
     "text": [
      "Found 1100 images belonging to 2 classes.\n",
      "Found 276 images belonging to 2 classes.\n"
     ]
    }
   ],
   "source": [
    "train_generator = train_gen.flow_from_directory(\n",
    "#     'images/original_set/train',\n",
    "    'images/balanced_set/train',\n",
    "    color_mode=\"rgb\",\n",
    "    target_size=(100,100),\n",
    "    batch_size=100,\n",
    "    class_mode='binary',\n",
    "    classes=['none','solar'],\n",
    "    shuffle=True)\n",
    "validation_generator = valid_gen.flow_from_directory(\n",
    "#     'images/original_set/valid',\n",
    "    'images/balanced_set/valid',\n",
    "    color_mode=\"rgb\",\n",
    "    target_size=(100,100),\n",
    "    batch_size=100,\n",
    "    class_mode='binary',\n",
    "    classes=['none','solar'])"
   ]
  },
  {
   "cell_type": "markdown",
   "metadata": {},
   "source": [
    "### Load ResNet101, VGG16 and Inception models from Keras applications API"
   ]
  },
  {
   "cell_type": "markdown",
   "metadata": {},
   "source": [
    "Here, we import just a few of the popular deep learning frameworks for image classification proplems. The performance from these can are considered a benchmark for many new algorithms being developed in the literature."
   ]
  },
  {
   "cell_type": "code",
   "execution_count": 6,
   "metadata": {},
   "outputs": [],
   "source": [
    "resnet101_model = tf.keras.applications.ResNet101(\n",
    "    include_top=False,\n",
    "    weights='imagenet', # None or other weights\n",
    "    input_tensor=None,\n",
    "    input_shape=(100, 100, 3),\n",
    "    pooling='max' # max or avg\n",
    ")"
   ]
  },
  {
   "cell_type": "code",
   "execution_count": 7,
   "metadata": {},
   "outputs": [],
   "source": [
    "# make it so the base layer weights from transfer learning are not trainable\n",
    "resnet101_model.trainable = False"
   ]
  },
  {
   "cell_type": "code",
   "execution_count": 8,
   "metadata": {},
   "outputs": [],
   "source": [
    "vgg16_model = tf.keras.applications.VGG16(\n",
    "    include_top=False,\n",
    "    weights='imagenet', # None or other weights\n",
    "    input_tensor=None,\n",
    "    input_shape=(100, 100, 3),\n",
    "    pooling='max' # max or avg\n",
    ")"
   ]
  },
  {
   "cell_type": "code",
   "execution_count": 9,
   "metadata": {},
   "outputs": [],
   "source": [
    "# make it so the base layer weights from transfer learning are not trainable\n",
    "vgg16_model.trainable = False "
   ]
  },
  {
   "cell_type": "code",
   "execution_count": 10,
   "metadata": {},
   "outputs": [],
   "source": [
    "incV3_model = tf.keras.applications.InceptionV3(\n",
    "    include_top=False,\n",
    "    weights='imagenet', # None or other weights\n",
    "    input_tensor=None,\n",
    "    input_shape=(100, 100, 3),\n",
    "    pooling='max' # max or avg\n",
    ")"
   ]
  },
  {
   "cell_type": "code",
   "execution_count": 11,
   "metadata": {},
   "outputs": [],
   "source": [
    "# make it so the base layer weights from transfer learning are not trainable\n",
    "incV3_model.trainable = False"
   ]
  },
  {
   "cell_type": "code",
   "execution_count": 12,
   "metadata": {},
   "outputs": [],
   "source": [
    "models = [(resnet101_model, 'resnet'), (vgg16_model, 'vgg'), (incV3_model, 'inception')]"
   ]
  },
  {
   "cell_type": "markdown",
   "metadata": {},
   "source": [
    "### Fit and evaluate each model with the balanced image dataset"
   ]
  },
  {
   "cell_type": "markdown",
   "metadata": {},
   "source": [
    "The training history for each of the three deep learning frameworks will be fit on the balanced dataset, and saved to a dictionary so that they can be evaluated in a side by side comparison after."
   ]
  },
  {
   "cell_type": "code",
   "execution_count": 13,
   "metadata": {},
   "outputs": [],
   "source": [
    "def build_model(core):\n",
    "    output_layer = layers.Dense(1, activation='sigmoid')\n",
    "    concat_model = tf.keras.Sequential([core, output_layer])\n",
    "    concat_model.compile(loss='binary_crossentropy', optimizer=tf.keras.optimizers.Adam(learning_rate=0.001), metrics=['accuracy'])\n",
    "    print(concat_model.summary())\n",
    "    return concat_model"
   ]
  },
  {
   "cell_type": "code",
   "execution_count": 14,
   "metadata": {},
   "outputs": [],
   "source": [
    "model_history = {}"
   ]
  },
  {
   "cell_type": "code",
   "execution_count": 70,
   "metadata": {
    "scrolled": true
   },
   "outputs": [
    {
     "name": "stdout",
     "output_type": "stream",
     "text": [
      "Training and evaluating resnet model\n",
      "Model: \"sequential_3\"\n",
      "_________________________________________________________________\n",
      "Layer (type)                 Output Shape              Param #   \n",
      "=================================================================\n",
      "resnet101 (Functional)       (None, 2048)              42658176  \n",
      "_________________________________________________________________\n",
      "dense_3 (Dense)              (None, 1)                 2049      \n",
      "=================================================================\n",
      "Total params: 42,660,225\n",
      "Trainable params: 2,049\n",
      "Non-trainable params: 42,658,176\n",
      "_________________________________________________________________\n",
      "None\n",
      "Epoch 1/30\n",
      "11/11 [==============================] - 4s 376ms/step - loss: 1.2088 - accuracy: 0.5027 - val_loss: 0.6950 - val_accuracy: 0.4855\n",
      "Epoch 2/30\n",
      "11/11 [==============================] - 2s 168ms/step - loss: 0.7768 - accuracy: 0.4945 - val_loss: 0.7716 - val_accuracy: 0.5000\n",
      "Epoch 3/30\n",
      "11/11 [==============================] - 2s 203ms/step - loss: 0.6810 - accuracy: 0.5436 - val_loss: 0.6224 - val_accuracy: 0.7246\n",
      "Epoch 4/30\n",
      "11/11 [==============================] - 2s 165ms/step - loss: 0.6110 - accuracy: 0.6991 - val_loss: 0.5866 - val_accuracy: 0.7971\n",
      "Epoch 5/30\n",
      "11/11 [==============================] - 2s 177ms/step - loss: 0.5781 - accuracy: 0.7691 - val_loss: 0.5611 - val_accuracy: 0.7826\n",
      "Epoch 6/30\n",
      "11/11 [==============================] - 2s 180ms/step - loss: 0.5659 - accuracy: 0.7436 - val_loss: 0.5485 - val_accuracy: 0.7935\n",
      "Epoch 7/30\n",
      "11/11 [==============================] - 2s 166ms/step - loss: 0.5479 - accuracy: 0.7418 - val_loss: 0.5473 - val_accuracy: 0.8043\n",
      "Epoch 8/30\n",
      "11/11 [==============================] - 2s 167ms/step - loss: 0.5322 - accuracy: 0.7800 - val_loss: 0.5211 - val_accuracy: 0.7464\n",
      "Epoch 9/30\n",
      "11/11 [==============================] - 2s 168ms/step - loss: 0.5259 - accuracy: 0.7618 - val_loss: 0.5179 - val_accuracy: 0.7935\n",
      "Epoch 10/30\n",
      "11/11 [==============================] - 2s 212ms/step - loss: 0.5177 - accuracy: 0.7591 - val_loss: 0.5301 - val_accuracy: 0.7971\n",
      "Epoch 11/30\n",
      "11/11 [==============================] - 2s 168ms/step - loss: 0.5326 - accuracy: 0.7455 - val_loss: 0.5279 - val_accuracy: 0.8007\n",
      "Epoch 12/30\n",
      "11/11 [==============================] - 2s 192ms/step - loss: 0.5169 - accuracy: 0.7545 - val_loss: 0.5155 - val_accuracy: 0.7862\n",
      "Epoch 13/30\n",
      "11/11 [==============================] - 2s 188ms/step - loss: 0.5134 - accuracy: 0.7627 - val_loss: 0.4992 - val_accuracy: 0.7319\n",
      "Epoch 14/30\n",
      "11/11 [==============================] - 2s 204ms/step - loss: 0.5191 - accuracy: 0.7673 - val_loss: 0.5286 - val_accuracy: 0.6920\n",
      "Epoch 15/30\n",
      "11/11 [==============================] - 2s 207ms/step - loss: 0.5138 - accuracy: 0.7755 - val_loss: 0.5066 - val_accuracy: 0.7029\n",
      "Epoch 16/30\n",
      "11/11 [==============================] - 2s 182ms/step - loss: 0.5172 - accuracy: 0.7609 - val_loss: 0.4953 - val_accuracy: 0.7862\n",
      "Epoch 17/30\n",
      "11/11 [==============================] - 2s 171ms/step - loss: 0.5076 - accuracy: 0.7627 - val_loss: 0.5119 - val_accuracy: 0.7971\n",
      "Epoch 18/30\n",
      "11/11 [==============================] - 2s 170ms/step - loss: 0.5006 - accuracy: 0.7591 - val_loss: 0.4918 - val_accuracy: 0.7391\n",
      "Epoch 19/30\n",
      "11/11 [==============================] - 2s 171ms/step - loss: 0.4973 - accuracy: 0.7700 - val_loss: 0.4896 - val_accuracy: 0.7645\n",
      "Epoch 20/30\n",
      "11/11 [==============================] - 2s 169ms/step - loss: 0.4999 - accuracy: 0.7591 - val_loss: 0.4915 - val_accuracy: 0.7319\n",
      "Epoch 21/30\n",
      "11/11 [==============================] - 2s 171ms/step - loss: 0.4952 - accuracy: 0.7764 - val_loss: 0.4895 - val_accuracy: 0.7826\n",
      "Epoch 22/30\n",
      "11/11 [==============================] - 2s 187ms/step - loss: 0.4922 - accuracy: 0.7727 - val_loss: 0.4918 - val_accuracy: 0.7899\n",
      "Epoch 23/30\n",
      "11/11 [==============================] - 2s 196ms/step - loss: 0.4902 - accuracy: 0.7800 - val_loss: 0.4864 - val_accuracy: 0.7536\n",
      "Epoch 24/30\n",
      "11/11 [==============================] - 2s 199ms/step - loss: 0.4947 - accuracy: 0.7709 - val_loss: 0.4986 - val_accuracy: 0.7935\n",
      "Epoch 25/30\n",
      "11/11 [==============================] - 2s 198ms/step - loss: 0.5087 - accuracy: 0.7645 - val_loss: 0.4947 - val_accuracy: 0.7971\n",
      "Epoch 26/30\n",
      "11/11 [==============================] - 2s 198ms/step - loss: 0.5227 - accuracy: 0.7655 - val_loss: 0.4848 - val_accuracy: 0.7536\n",
      "Epoch 27/30\n",
      "11/11 [==============================] - 2s 201ms/step - loss: 0.4992 - accuracy: 0.7864 - val_loss: 0.4915 - val_accuracy: 0.7246\n",
      "Epoch 28/30\n",
      "11/11 [==============================] - 2s 202ms/step - loss: 0.4889 - accuracy: 0.7773 - val_loss: 0.5283 - val_accuracy: 0.6957\n",
      "Epoch 29/30\n",
      "11/11 [==============================] - 2s 197ms/step - loss: 0.5033 - accuracy: 0.7745 - val_loss: 0.4998 - val_accuracy: 0.7101\n",
      "Epoch 30/30\n",
      "11/11 [==============================] - 2s 198ms/step - loss: 0.5007 - accuracy: 0.7609 - val_loss: 0.4851 - val_accuracy: 0.7935\n",
      "----------------------------------------------------------------------------------------------------\n",
      "Training and evaluating vgg model\n",
      "Model: \"sequential_4\"\n",
      "_________________________________________________________________\n",
      "Layer (type)                 Output Shape              Param #   \n",
      "=================================================================\n",
      "vgg16 (Functional)           (None, 512)               14714688  \n",
      "_________________________________________________________________\n",
      "dense_4 (Dense)              (None, 1)                 513       \n",
      "=================================================================\n",
      "Total params: 14,715,201\n",
      "Trainable params: 513\n",
      "Non-trainable params: 14,714,688\n",
      "_________________________________________________________________\n",
      "None\n",
      "Epoch 1/30\n",
      "11/11 [==============================] - 2s 157ms/step - loss: 0.7020 - accuracy: 0.5118 - val_loss: 0.6376 - val_accuracy: 0.6486\n",
      "Epoch 2/30\n",
      "11/11 [==============================] - 1s 128ms/step - loss: 0.6278 - accuracy: 0.7336 - val_loss: 0.5766 - val_accuracy: 0.7899\n",
      "Epoch 3/30\n",
      "11/11 [==============================] - 2s 137ms/step - loss: 0.5685 - accuracy: 0.7882 - val_loss: 0.5323 - val_accuracy: 0.7899\n",
      "Epoch 4/30\n",
      "11/11 [==============================] - 1s 130ms/step - loss: 0.5306 - accuracy: 0.8164 - val_loss: 0.5025 - val_accuracy: 0.7935\n",
      "Epoch 5/30\n",
      "11/11 [==============================] - 2s 137ms/step - loss: 0.5126 - accuracy: 0.7982 - val_loss: 0.4807 - val_accuracy: 0.7971\n",
      "Epoch 6/30\n",
      "11/11 [==============================] - 1s 133ms/step - loss: 0.4926 - accuracy: 0.8027 - val_loss: 0.4676 - val_accuracy: 0.8007\n",
      "Epoch 7/30\n",
      "11/11 [==============================] - 2s 156ms/step - loss: 0.4788 - accuracy: 0.8109 - val_loss: 0.4552 - val_accuracy: 0.8043\n",
      "Epoch 8/30\n",
      "11/11 [==============================] - 2s 157ms/step - loss: 0.4660 - accuracy: 0.7991 - val_loss: 0.4463 - val_accuracy: 0.8007\n",
      "Epoch 9/30\n",
      "11/11 [==============================] - 2s 166ms/step - loss: 0.4576 - accuracy: 0.8145 - val_loss: 0.4408 - val_accuracy: 0.8043\n",
      "Epoch 10/30\n",
      "11/11 [==============================] - 2s 140ms/step - loss: 0.4504 - accuracy: 0.8218 - val_loss: 0.4336 - val_accuracy: 0.8007\n",
      "Epoch 11/30\n",
      "11/11 [==============================] - 2s 153ms/step - loss: 0.4437 - accuracy: 0.8264 - val_loss: 0.4291 - val_accuracy: 0.7971\n",
      "Epoch 12/30\n",
      "11/11 [==============================] - 2s 160ms/step - loss: 0.4377 - accuracy: 0.8200 - val_loss: 0.4249 - val_accuracy: 0.8007\n",
      "Epoch 13/30\n",
      "11/11 [==============================] - 2s 139ms/step - loss: 0.4346 - accuracy: 0.8355 - val_loss: 0.4215 - val_accuracy: 0.8043\n",
      "Epoch 14/30\n",
      "11/11 [==============================] - 1s 135ms/step - loss: 0.4264 - accuracy: 0.8255 - val_loss: 0.4167 - val_accuracy: 0.8007\n",
      "Epoch 15/30\n",
      "11/11 [==============================] - 2s 141ms/step - loss: 0.4259 - accuracy: 0.8182 - val_loss: 0.4151 - val_accuracy: 0.8043\n",
      "Epoch 16/30\n",
      "11/11 [==============================] - 2s 140ms/step - loss: 0.4183 - accuracy: 0.8255 - val_loss: 0.4126 - val_accuracy: 0.8043\n",
      "Epoch 17/30\n",
      "11/11 [==============================] - 1s 136ms/step - loss: 0.4141 - accuracy: 0.8409 - val_loss: 0.4102 - val_accuracy: 0.8043\n",
      "Epoch 18/30\n",
      "11/11 [==============================] - 2s 153ms/step - loss: 0.4183 - accuracy: 0.8236 - val_loss: 0.4067 - val_accuracy: 0.8043\n",
      "Epoch 19/30\n",
      "11/11 [==============================] - 2s 150ms/step - loss: 0.4117 - accuracy: 0.8300 - val_loss: 0.4063 - val_accuracy: 0.8043\n",
      "Epoch 20/30\n",
      "11/11 [==============================] - 2s 139ms/step - loss: 0.4113 - accuracy: 0.8291 - val_loss: 0.4033 - val_accuracy: 0.8043\n",
      "Epoch 21/30\n",
      "11/11 [==============================] - 2s 143ms/step - loss: 0.4114 - accuracy: 0.8309 - val_loss: 0.4013 - val_accuracy: 0.8043\n",
      "Epoch 22/30\n",
      "11/11 [==============================] - 2s 148ms/step - loss: 0.4029 - accuracy: 0.8273 - val_loss: 0.3999 - val_accuracy: 0.8043\n",
      "Epoch 23/30\n",
      "11/11 [==============================] - 2s 138ms/step - loss: 0.3974 - accuracy: 0.8391 - val_loss: 0.3991 - val_accuracy: 0.8152\n",
      "Epoch 24/30\n",
      "11/11 [==============================] - 2s 137ms/step - loss: 0.4043 - accuracy: 0.8291 - val_loss: 0.3975 - val_accuracy: 0.8116\n",
      "Epoch 25/30\n",
      "11/11 [==============================] - 2s 173ms/step - loss: 0.3953 - accuracy: 0.8282 - val_loss: 0.3958 - val_accuracy: 0.8152\n",
      "Epoch 26/30\n",
      "11/11 [==============================] - 2s 173ms/step - loss: 0.3955 - accuracy: 0.8400 - val_loss: 0.3953 - val_accuracy: 0.8225\n",
      "Epoch 27/30\n",
      "11/11 [==============================] - 2s 166ms/step - loss: 0.3975 - accuracy: 0.8345 - val_loss: 0.3932 - val_accuracy: 0.8152\n",
      "Epoch 28/30\n",
      "11/11 [==============================] - 2s 167ms/step - loss: 0.3972 - accuracy: 0.8382 - val_loss: 0.3952 - val_accuracy: 0.8152\n",
      "Epoch 29/30\n",
      "11/11 [==============================] - 2s 178ms/step - loss: 0.3791 - accuracy: 0.8400 - val_loss: 0.3920 - val_accuracy: 0.8188\n",
      "Epoch 30/30\n",
      "11/11 [==============================] - 2s 149ms/step - loss: 0.3837 - accuracy: 0.8436 - val_loss: 0.3916 - val_accuracy: 0.8188\n",
      "----------------------------------------------------------------------------------------------------\n",
      "Training and evaluating inception model\n",
      "Model: \"sequential_5\"\n",
      "_________________________________________________________________\n",
      "Layer (type)                 Output Shape              Param #   \n",
      "=================================================================\n",
      "inception_v3 (Functional)    (None, 2048)              21802784  \n",
      "_________________________________________________________________\n",
      "dense_5 (Dense)              (None, 1)                 2049      \n",
      "=================================================================\n",
      "Total params: 21,804,833\n",
      "Trainable params: 2,049\n",
      "Non-trainable params: 21,802,784\n",
      "_________________________________________________________________\n",
      "None\n",
      "Epoch 1/30\n",
      "11/11 [==============================] - 3s 268ms/step - loss: 0.6937 - accuracy: 0.6136 - val_loss: 0.6000 - val_accuracy: 0.7138\n",
      "Epoch 2/30\n",
      "11/11 [==============================] - 2s 147ms/step - loss: 0.5665 - accuracy: 0.7355 - val_loss: 0.5500 - val_accuracy: 0.7500\n",
      "Epoch 3/30\n",
      "11/11 [==============================] - 1s 136ms/step - loss: 0.5064 - accuracy: 0.7745 - val_loss: 0.5320 - val_accuracy: 0.7717\n",
      "Epoch 4/30\n",
      "11/11 [==============================] - 2s 144ms/step - loss: 0.4709 - accuracy: 0.7982 - val_loss: 0.5278 - val_accuracy: 0.7681\n",
      "Epoch 5/30\n",
      "11/11 [==============================] - 2s 145ms/step - loss: 0.4627 - accuracy: 0.7964 - val_loss: 0.5134 - val_accuracy: 0.7790\n",
      "Epoch 6/30\n",
      "11/11 [==============================] - 1s 128ms/step - loss: 0.4501 - accuracy: 0.8091 - val_loss: 0.5045 - val_accuracy: 0.7899\n",
      "Epoch 7/30\n",
      "11/11 [==============================] - 1s 131ms/step - loss: 0.4467 - accuracy: 0.7991 - val_loss: 0.4968 - val_accuracy: 0.7862\n",
      "Epoch 8/30\n",
      "11/11 [==============================] - 2s 138ms/step - loss: 0.4303 - accuracy: 0.8082 - val_loss: 0.4992 - val_accuracy: 0.7717\n",
      "Epoch 9/30\n",
      "11/11 [==============================] - 2s 162ms/step - loss: 0.4321 - accuracy: 0.8118 - val_loss: 0.4895 - val_accuracy: 0.7790\n",
      "Epoch 10/30\n",
      "11/11 [==============================] - 1s 133ms/step - loss: 0.4086 - accuracy: 0.8218 - val_loss: 0.4846 - val_accuracy: 0.7826\n",
      "Epoch 11/30\n",
      "11/11 [==============================] - 1s 129ms/step - loss: 0.4167 - accuracy: 0.8227 - val_loss: 0.4828 - val_accuracy: 0.7971\n",
      "Epoch 12/30\n",
      "11/11 [==============================] - 2s 140ms/step - loss: 0.4181 - accuracy: 0.8109 - val_loss: 0.4733 - val_accuracy: 0.7862\n",
      "Epoch 13/30\n",
      "11/11 [==============================] - 2s 173ms/step - loss: 0.4019 - accuracy: 0.8209 - val_loss: 0.4665 - val_accuracy: 0.8007\n",
      "Epoch 14/30\n",
      "11/11 [==============================] - 2s 138ms/step - loss: 0.4125 - accuracy: 0.8245 - val_loss: 0.4623 - val_accuracy: 0.7971\n",
      "Epoch 15/30\n",
      "11/11 [==============================] - 1s 129ms/step - loss: 0.3935 - accuracy: 0.8191 - val_loss: 0.4677 - val_accuracy: 0.7971\n",
      "Epoch 16/30\n",
      "11/11 [==============================] - 1s 131ms/step - loss: 0.3783 - accuracy: 0.8391 - val_loss: 0.4769 - val_accuracy: 0.7971\n",
      "Epoch 17/30\n",
      "11/11 [==============================] - 1s 124ms/step - loss: 0.3985 - accuracy: 0.8191 - val_loss: 0.4708 - val_accuracy: 0.8043\n",
      "Epoch 18/30\n",
      "11/11 [==============================] - 2s 152ms/step - loss: 0.3895 - accuracy: 0.8309 - val_loss: 0.4574 - val_accuracy: 0.7971\n",
      "Epoch 19/30\n",
      "11/11 [==============================] - 2s 143ms/step - loss: 0.3814 - accuracy: 0.8291 - val_loss: 0.4577 - val_accuracy: 0.8007\n",
      "Epoch 20/30\n",
      "11/11 [==============================] - 1s 126ms/step - loss: 0.3800 - accuracy: 0.8273 - val_loss: 0.4580 - val_accuracy: 0.8116\n",
      "Epoch 21/30\n",
      "11/11 [==============================] - 1s 132ms/step - loss: 0.3826 - accuracy: 0.8264 - val_loss: 0.4413 - val_accuracy: 0.8043\n",
      "Epoch 22/30\n",
      "11/11 [==============================] - 1s 128ms/step - loss: 0.3631 - accuracy: 0.8427 - val_loss: 0.4427 - val_accuracy: 0.8043\n",
      "Epoch 23/30\n",
      "11/11 [==============================] - 1s 126ms/step - loss: 0.3784 - accuracy: 0.8418 - val_loss: 0.4430 - val_accuracy: 0.8152\n",
      "Epoch 24/30\n",
      "11/11 [==============================] - 1s 129ms/step - loss: 0.3743 - accuracy: 0.8400 - val_loss: 0.4569 - val_accuracy: 0.8188\n",
      "Epoch 25/30\n",
      "11/11 [==============================] - 2s 149ms/step - loss: 0.3763 - accuracy: 0.8318 - val_loss: 0.4628 - val_accuracy: 0.8007\n",
      "Epoch 26/30\n",
      "11/11 [==============================] - 2s 140ms/step - loss: 0.3761 - accuracy: 0.8282 - val_loss: 0.4485 - val_accuracy: 0.8080\n",
      "Epoch 27/30\n",
      "11/11 [==============================] - 2s 142ms/step - loss: 0.3528 - accuracy: 0.8527 - val_loss: 0.4510 - val_accuracy: 0.8152\n",
      "Epoch 28/30\n",
      "11/11 [==============================] - 2s 157ms/step - loss: 0.3624 - accuracy: 0.8382 - val_loss: 0.4469 - val_accuracy: 0.8188\n",
      "Epoch 29/30\n",
      "11/11 [==============================] - 1s 133ms/step - loss: 0.3535 - accuracy: 0.8491 - val_loss: 0.4448 - val_accuracy: 0.8043\n",
      "Epoch 30/30\n",
      "11/11 [==============================] - 2s 143ms/step - loss: 0.3525 - accuracy: 0.8418 - val_loss: 0.4490 - val_accuracy: 0.8188\n",
      "----------------------------------------------------------------------------------------------------\n"
     ]
    }
   ],
   "source": [
    "for model in models:\n",
    "    print(f'Training and evaluating {model[1]} model')\n",
    "    \n",
    "    # grab a model from the model hashmap\n",
    "    this_model = build_model(model[0])\n",
    "    \n",
    "    # fit the model using the train and validation image data generators\n",
    "    history = this_model.fit(\n",
    "        train_generator, \n",
    "        epochs=30,\n",
    "        validation_data=validation_generator,\n",
    "        batch_size=550, \n",
    "        verbose=1)\n",
    "    \n",
    "    # store the current model history in hashmap for plotting accuracy and loss\n",
    "    model_history[model[1]] = history\n",
    "    \n",
    "    # predict the probability distribution of the data\n",
    "#     predictions=this_model.predict_generator(validation_generator, steps=28, verbose=1)\n",
    "\n",
    "    # get the class with highest probability for each sample\n",
    "#     y_pred = np.argmax(predictions, axis=-1)\n",
    "\n",
    "    # get the classification report\n",
    "#     print(classification_report(test_labels, y_pred))\n",
    "    \n",
    "    print('-'*100)\n",
    "    \n",
    "# code to fetch the predictions using the image data generator obtained from\n",
    "# https://stackoverflow.com/questions/59909304/classification-report-using-prediction-generator-method"
   ]
  },
  {
   "cell_type": "markdown",
   "metadata": {},
   "source": [
    "### Evaluate model performance"
   ]
  },
  {
   "cell_type": "markdown",
   "metadata": {},
   "source": [
    "From the charts below, we can see that the VGG16 and InceptionV3 models are performing 5% better than the ResNet101 model on average once the first two models converge around epoch 7 or 10. After that they hardly diverge. All of the models performance tends to saturate around that same point in the training process. The InceptionV3 validation results are  lower than its training results and stay that way after epoch 2, so perhaps some signs of overfitting. Looking at Loss results for binary crossentropy, we see a slightly different story. Again ResNet101 performs slightly worse with a gap in .1-.2 loss, while VGG16 and InceptionV3 form a tight convergence after the second epoch. However, observing their validation sets, the gap in loss for InceptionV3 between training and validation sets is much wider, again reinforcing the idea that the model is overfitting around epoch 2.  Therefore, VGG16 appears to be the most performant model on this dataset without any further tuning of hyperparameters, as it's training and validation loss stay divergent througha ll epochs."
   ]
  },
  {
   "cell_type": "code",
   "execution_count": 22,
   "metadata": {},
   "outputs": [],
   "source": [
    "def plot_model_accuracy(model_history):\n",
    "    legend_list = []\n",
    "    fig = plt.figure(figsize=(10,8))\n",
    "    for key, history in model_history.items():\n",
    "        plt.plot(history.history['accuracy'])\n",
    "        plt.plot(history.history['val_accuracy'], ':')\n",
    "        train_label = key + '_train'\n",
    "        legend_list.append(train_label)\n",
    "        test_label = key + '_valid'\n",
    "        legend_list.append(test_label)\n",
    "    plt.title('model accuracy')\n",
    "    plt.ylabel('accuracy')\n",
    "    plt.xlabel('epoch')\n",
    "    plt.legend(legend_list, loc='lower right')\n",
    "    plt.ylim(.4, 1)\n",
    "    plt.show()"
   ]
  },
  {
   "cell_type": "code",
   "execution_count": 72,
   "metadata": {},
   "outputs": [
    {
     "data": {
      "image/png": "[encoded data removed]",
      "text/plain": [
       "<Figure size 720x576 with 1 Axes>"
      ]
     },
     "metadata": {
      "needs_background": "light"
     },
     "output_type": "display_data"
    }
   ],
   "source": [
    "plot_model_accuracy(model_history)"
   ]
  },
  {
   "cell_type": "code",
   "execution_count": 26,
   "metadata": {},
   "outputs": [],
   "source": [
    "def plot_model_loss(model_history):\n",
    "    legend_list = []\n",
    "    fig = plt.figure(figsize=(10,8))\n",
    "    for key, history in model_history.items():\n",
    "        plt.plot(history.history['loss'])\n",
    "        plt.plot(history.history['val_loss'], ':')\n",
    "        train_label = key + '_train'\n",
    "        legend_list.append(train_label)\n",
    "        test_label = key + '_valid'\n",
    "        legend_list.append(test_label)\n",
    "    plt.title('model loss')\n",
    "    plt.ylabel('loss')\n",
    "    plt.xlabel('epoch')\n",
    "    plt.legend(legend_list, loc='lower right')\n",
    "#     plt.ylim(0.2, 1)\n",
    "    plt.show()"
   ]
  },
  {
   "cell_type": "code",
   "execution_count": 74,
   "metadata": {},
   "outputs": [
    {
     "data": {
      "image/png": "[encoded data removed]",
      "text/plain": [
       "<Figure size 720x576 with 1 Axes>"
      ]
     },
     "metadata": {
      "needs_background": "light"
     },
     "output_type": "display_data"
    }
   ],
   "source": [
    "plot_model_loss(model_history)"
   ]
  },
  {
   "cell_type": "markdown",
   "metadata": {},
   "source": [
    "### Manual method of constructing train and test datasets for Keras Tuner"
   ]
  },
  {
   "cell_type": "markdown",
   "metadata": {},
   "source": [
    "In this section, we will build up the train and validation datasets manually so that we can use Keras Tuner functionality to tune the hyperparameters of a simpler sequential neural network. Keras provides a lot of flexibility whe we construct our own deep learning framework, and this enables easy tuning of hyperparamters across the network, such as batch size, the width of hidden layers, the learning rate, dropout rate, etc. Seeing that above the VGG16 model worked the best of the three frameworks tested, I will rebuild the architecture from scratch so that the weights of the full network can be trained, and the hypertuner can reasonably update each parameter to optimize the module.\n",
    "\n",
    "Due to memory issues, this section was not very fruitful in the end.  The above pre-trained models still performed as good if not better than what tuned models I could yield below."
   ]
  },
  {
   "cell_type": "markdown",
   "metadata": {},
   "source": [
    "#### Build shuffled train and validation sets for X and Y from image folders"
   ]
  },
  {
   "cell_type": "code",
   "execution_count": 1,
   "metadata": {},
   "outputs": [],
   "source": [
    "none_train_path = r'C:\\Users\\kenns\\automatic_solar_pv_detection\\images\\balanced_set\\train\\none'\n",
    "solar_train_path = r'C:\\Users\\kenns\\automatic_solar_pv_detection\\images\\balanced_set\\train\\solar'\n",
    "none_valid_path = r'C:\\Users\\kenns\\automatic_solar_pv_detection\\images\\balanced_set\\valid\\none'\n",
    "solar_valid_path = r'C:\\Users\\kenns\\automatic_solar_pv_detection\\images\\balanced_set\\valid\\solar'"
   ]
  },
  {
   "cell_type": "code",
   "execution_count": 3,
   "metadata": {},
   "outputs": [],
   "source": [
    "none_train_dir = np.array(os.listdir(none_train_path))\n",
    "solar_train_dir = np.array(os.listdir(solar_train_path))\n",
    "none_valid_dir = np.array(os.listdir(none_valid_path))\n",
    "solar_valid_dir = np.array(os.listdir(solar_valid_path))"
   ]
  },
  {
   "cell_type": "code",
   "execution_count": 4,
   "metadata": {},
   "outputs": [],
   "source": [
    "def get_images(img_dir, path):\n",
    "    imgs = []\n",
    "    for tif in tqdm(img_dir):\n",
    "        img = imageio.imread(os.path.join(path, tif))\n",
    "        imgs.append(img[:, :, 0:3]) # [0:3] -> R,G,B, [1:4] -> G,B,NIR, just [4] -> NIR\n",
    "    return np.array (imgs) / 255"
   ]
  },
  {
   "cell_type": "code",
   "execution_count": 5,
   "metadata": {},
   "outputs": [],
   "source": [
    "# https://stackoverflow.com/questions/4601373/better-way-to-shuffle-two-numpy-arrays-in-unison\n",
    "# needed a way to shuffle the two train and validation sets for X and Y in unison\n",
    "def unison_shuffled_copies(a, b):\n",
    "    assert len(a) == len(b)\n",
    "    p = np.random.permutation(len(a))\n",
    "    return a[p], b[p]"
   ]
  },
  {
   "cell_type": "code",
   "execution_count": 6,
   "metadata": {},
   "outputs": [
    {
     "name": "stderr",
     "output_type": "stream",
     "text": [
      "100%|███████████████████████████████████████████████████████████████████████████████████████████████████████████████████████| 550/550 [00:04<00:00, 112.40it/s]\n"
     ]
    }
   ],
   "source": [
    "none_train = get_images(none_train_dir, none_train_path)"
   ]
  },
  {
   "cell_type": "code",
   "execution_count": 7,
   "metadata": {},
   "outputs": [
    {
     "name": "stderr",
     "output_type": "stream",
     "text": [
      "100%|████████████████████████████████████████████████████████████████████████████████████████████████████████████████████████| 138/138 [00:01<00:00, 91.33it/s]\n"
     ]
    }
   ],
   "source": [
    "none_valid = get_images(none_valid_dir, none_valid_path)"
   ]
  },
  {
   "cell_type": "code",
   "execution_count": 8,
   "metadata": {},
   "outputs": [
    {
     "name": "stderr",
     "output_type": "stream",
     "text": [
      "100%|████████████████████████████████████████████████████████████████████████████████████████████████████████████████████████| 550/550 [00:07<00:00, 74.86it/s]\n"
     ]
    }
   ],
   "source": [
    "solar_train = get_images(solar_train_dir, solar_train_path)"
   ]
  },
  {
   "cell_type": "code",
   "execution_count": 9,
   "metadata": {},
   "outputs": [
    {
     "name": "stderr",
     "output_type": "stream",
     "text": [
      "100%|████████████████████████████████████████████████████████████████████████████████████████████████████████████████████████| 138/138 [00:01<00:00, 70.41it/s]\n"
     ]
    }
   ],
   "source": [
    "solar_valid = get_images(solar_valid_dir, solar_valid_path)"
   ]
  },
  {
   "cell_type": "code",
   "execution_count": 10,
   "metadata": {},
   "outputs": [],
   "source": [
    "# concatenate training arrays for solar and none, and build Y array with 1s and 0s for labels\n",
    "X_train = np.concatenate((solar_train, none_train), axis=0)\n",
    "Y_train = np.array([1]*len(solar_train) + [0]*len(none_train), dtype='float32').reshape(-1,1)"
   ]
  },
  {
   "cell_type": "code",
   "execution_count": 11,
   "metadata": {},
   "outputs": [],
   "source": [
    "# concatenate validation arrays for solar and none, and build Y array with 1s and 0s for labels\n",
    "X_test = np.concatenate((solar_valid, none_valid), axis=0)\n",
    "Y_test = np.array([1]*len(solar_valid) + [0]*len(none_valid), dtype='float32').reshape(-1,1)"
   ]
  },
  {
   "cell_type": "code",
   "execution_count": 12,
   "metadata": {},
   "outputs": [],
   "source": [
    "# shuffle the X and Y arrays in unison so that labels align with 3D matrix of scaled RGB values for each image \n",
    "X_train, Y_train = unison_shuffled_copies(X_train, Y_train)\n",
    "X_test, Y_test = unison_shuffled_copies(X_test, Y_test)"
   ]
  },
  {
   "cell_type": "code",
   "execution_count": 13,
   "metadata": {},
   "outputs": [
    {
     "name": "stdout",
     "output_type": "stream",
     "text": [
      "X training set:  (1100, 100, 100, 3)\n",
      "Y training set:  (1100, 1)\n",
      "X validation set:  (276, 100, 100, 3)\n",
      "Y validation set:  (276, 1)\n"
     ]
    }
   ],
   "source": [
    "# confirm the shape of the X and Y objects prior to training the model\n",
    "print('X training set: ', X_train.shape)\n",
    "print('Y training set: ', Y_train.shape)\n",
    "print('X validation set: ', X_test.shape)\n",
    "print('Y validation set: ', Y_test.shape)"
   ]
  },
  {
   "cell_type": "markdown",
   "metadata": {},
   "source": [
    "#### Build a vanilla network with a few hidden convolutional layers"
   ]
  },
  {
   "cell_type": "markdown",
   "metadata": {},
   "source": [
    "Here I attempt to use a simpler deep neural network that sort of emulates the modules found in the beginning of Inception or throughout the VGG framework. This means stacking multiple convolutional layers followed by max pooling, with an average pooling layer at the end, before flattening, passing through a fully connected layer, and the sigmoid classification layer."
   ]
  },
  {
   "cell_type": "code",
   "execution_count": 14,
   "metadata": {},
   "outputs": [],
   "source": [
    "IMAGE_INPUT_SHAPE = X_train.shape[1:]"
   ]
  },
  {
   "cell_type": "code",
   "execution_count": 18,
   "metadata": {},
   "outputs": [],
   "source": [
    "def build_simple_nn():\n",
    "    inputs = tf.keras.Input(shape=IMAGE_INPUT_SHAPE)\n",
    "    x = inputs\n",
    "    \n",
    "    # first stage\n",
    "    x = Conv2D(filters = 64, \n",
    "            kernel_size =(5,5),\n",
    "            activation='relu',\n",
    "            padding='same')(x)\n",
    "    x = Conv2D(filters = 128, \n",
    "            kernel_size =(3,3),\n",
    "            activation='relu',\n",
    "            padding='same')(x)\n",
    "    x = Conv2D(filters = 256, \n",
    "            kernel_size =(1,1),\n",
    "            activation='relu',\n",
    "            padding='same')(x)\n",
    "    x = MaxPool2D(pool_size=(2,2), strides=(2,2))(x)\n",
    "    \n",
    "    # second stage\n",
    "    x = Conv2D(filters = 512, \n",
    "            kernel_size =(3,3),\n",
    "            activation='relu',\n",
    "            padding='same')(x)\n",
    "    x = Conv2D(filters = 512, \n",
    "            kernel_size =(3,3),\n",
    "            activation='relu',\n",
    "            padding='same')(x)\n",
    "    x = AvgPool2D(pool_size=(2,2), strides=(2,2))(x)\n",
    "    \n",
    "    x = Flatten()(x)\n",
    "    x = Dense(64, activation='relu')(x)\n",
    "    outputs = Dense(units=1, activation=\"sigmoid\")(x)\n",
    "    \n",
    "    model = tf.keras.Model(inputs, outputs)\n",
    "    \n",
    "    model.compile(\n",
    "        optimizer=tf.keras.optimizers.Adam(learning_rate=1e-3),\n",
    "        loss='binary_crossentropy', \n",
    "        metrics=['accuracy'])\n",
    "    print(model.summary())\n",
    "    \n",
    "    return model"
   ]
  },
  {
   "cell_type": "code",
   "execution_count": 19,
   "metadata": {},
   "outputs": [
    {
     "name": "stdout",
     "output_type": "stream",
     "text": [
      "Model: \"functional_3\"\n",
      "_________________________________________________________________\n",
      "Layer (type)                 Output Shape              Param #   \n",
      "=================================================================\n",
      "input_2 (InputLayer)         [(None, 100, 100, 3)]     0         \n",
      "_________________________________________________________________\n",
      "conv2d_6 (Conv2D)            (None, 100, 100, 64)      4864      \n",
      "_________________________________________________________________\n",
      "conv2d_7 (Conv2D)            (None, 100, 100, 128)     73856     \n",
      "_________________________________________________________________\n",
      "conv2d_8 (Conv2D)            (None, 100, 100, 256)     33024     \n",
      "_________________________________________________________________\n",
      "max_pooling2d_2 (MaxPooling2 (None, 50, 50, 256)       0         \n",
      "_________________________________________________________________\n",
      "conv2d_9 (Conv2D)            (None, 50, 50, 512)       1180160   \n",
      "_________________________________________________________________\n",
      "conv2d_10 (Conv2D)           (None, 50, 50, 512)       2359808   \n",
      "_________________________________________________________________\n",
      "average_pooling2d (AveragePo (None, 25, 25, 512)       0         \n",
      "_________________________________________________________________\n",
      "flatten_1 (Flatten)          (None, 320000)            0         \n",
      "_________________________________________________________________\n",
      "dense_2 (Dense)              (None, 64)                20480064  \n",
      "_________________________________________________________________\n",
      "dense_3 (Dense)              (None, 1)                 65        \n",
      "=================================================================\n",
      "Total params: 24,131,841\n",
      "Trainable params: 24,131,841\n",
      "Non-trainable params: 0\n",
      "_________________________________________________________________\n",
      "None\n"
     ]
    }
   ],
   "source": [
    "simple_model = build_simple_nn()"
   ]
  },
  {
   "cell_type": "code",
   "execution_count": 20,
   "metadata": {
    "scrolled": true
   },
   "outputs": [
    {
     "name": "stdout",
     "output_type": "stream",
     "text": [
      "Epoch 1/30\n",
      " 2/35 [>.............................] - ETA: 5s - loss: 4.1260 - accuracy: 0.5000WARNING:tensorflow:Callbacks method `on_train_batch_end` is slow compared to the batch time (batch time: 0.0833s vs `on_train_batch_end` time: 0.1844s). Check your callbacks.\n",
      "35/35 [==============================] - 11s 323ms/step - loss: 0.9197 - accuracy: 0.5382 - val_loss: 0.6746 - val_accuracy: 0.5145\n",
      "Epoch 2/30\n",
      "35/35 [==============================] - 10s 280ms/step - loss: 0.6074 - accuracy: 0.6973 - val_loss: 0.4825 - val_accuracy: 0.7862\n",
      "Epoch 3/30\n",
      "35/35 [==============================] - 10s 282ms/step - loss: 0.4978 - accuracy: 0.7791 - val_loss: 0.4652 - val_accuracy: 0.7899\n",
      "Epoch 4/30\n",
      "35/35 [==============================] - 10s 283ms/step - loss: 0.4912 - accuracy: 0.7682 - val_loss: 0.5741 - val_accuracy: 0.6196\n",
      "Epoch 5/30\n",
      "35/35 [==============================] - 10s 285ms/step - loss: 0.4654 - accuracy: 0.7827 - val_loss: 0.6643 - val_accuracy: 0.6884\n",
      "Epoch 6/30\n",
      "35/35 [==============================] - 10s 283ms/step - loss: 0.6736 - accuracy: 0.5773 - val_loss: 0.6661 - val_accuracy: 0.4891\n",
      "Epoch 7/30\n",
      "35/35 [==============================] - 10s 287ms/step - loss: 0.5988 - accuracy: 0.7018 - val_loss: 0.5638 - val_accuracy: 0.7645\n",
      "Epoch 8/30\n",
      "35/35 [==============================] - 10s 287ms/step - loss: 0.4487 - accuracy: 0.8064 - val_loss: 0.4788 - val_accuracy: 0.7826\n",
      "Epoch 9/30\n",
      "35/35 [==============================] - 10s 288ms/step - loss: 0.4355 - accuracy: 0.8145 - val_loss: 0.4541 - val_accuracy: 0.8007\n",
      "Epoch 10/30\n",
      "35/35 [==============================] - 10s 288ms/step - loss: 0.3987 - accuracy: 0.8191 - val_loss: 0.4375 - val_accuracy: 0.8116\n",
      "Epoch 11/30\n",
      "35/35 [==============================] - 10s 289ms/step - loss: 0.3672 - accuracy: 0.8345 - val_loss: 0.4627 - val_accuracy: 0.7609\n",
      "Epoch 12/30\n",
      "35/35 [==============================] - 10s 290ms/step - loss: 0.3349 - accuracy: 0.8482 - val_loss: 0.4845 - val_accuracy: 0.7971\n",
      "Epoch 13/30\n",
      "35/35 [==============================] - 10s 291ms/step - loss: 0.3149 - accuracy: 0.8755 - val_loss: 0.4921 - val_accuracy: 0.7500\n",
      "Epoch 14/30\n",
      "35/35 [==============================] - 10s 291ms/step - loss: 0.3131 - accuracy: 0.8673 - val_loss: 0.5333 - val_accuracy: 0.7899\n",
      "Epoch 15/30\n",
      "35/35 [==============================] - 10s 291ms/step - loss: 0.2259 - accuracy: 0.9100 - val_loss: 0.5809 - val_accuracy: 0.7645\n",
      "Epoch 16/30\n",
      "35/35 [==============================] - 10s 291ms/step - loss: 0.1706 - accuracy: 0.9473 - val_loss: 0.8304 - val_accuracy: 0.7681\n",
      "Epoch 17/30\n",
      "35/35 [==============================] - 10s 292ms/step - loss: 0.1497 - accuracy: 0.9418 - val_loss: 0.9008 - val_accuracy: 0.7500\n",
      "Epoch 18/30\n",
      "35/35 [==============================] - 10s 293ms/step - loss: 0.1148 - accuracy: 0.9682 - val_loss: 1.1488 - val_accuracy: 0.7790\n",
      "Epoch 19/30\n",
      "35/35 [==============================] - 10s 293ms/step - loss: 0.1125 - accuracy: 0.9645 - val_loss: 1.1961 - val_accuracy: 0.7754\n",
      "Epoch 20/30\n",
      "35/35 [==============================] - 10s 293ms/step - loss: 0.0816 - accuracy: 0.9809 - val_loss: 1.7208 - val_accuracy: 0.7428\n",
      "Epoch 21/30\n",
      "35/35 [==============================] - 10s 293ms/step - loss: 0.0974 - accuracy: 0.9745 - val_loss: 1.0644 - val_accuracy: 0.7717\n",
      "Epoch 22/30\n",
      "35/35 [==============================] - 10s 294ms/step - loss: 0.0674 - accuracy: 0.9873 - val_loss: 1.5453 - val_accuracy: 0.7500\n",
      "Epoch 23/30\n",
      "35/35 [==============================] - 10s 294ms/step - loss: 0.0570 - accuracy: 0.9918 - val_loss: 1.7865 - val_accuracy: 0.7826\n",
      "Epoch 24/30\n",
      "35/35 [==============================] - 10s 295ms/step - loss: 0.0504 - accuracy: 0.9882 - val_loss: 2.6453 - val_accuracy: 0.7971\n",
      "Epoch 25/30\n",
      "35/35 [==============================] - 10s 294ms/step - loss: 0.1230 - accuracy: 0.9664 - val_loss: 2.1369 - val_accuracy: 0.7609\n",
      "Epoch 26/30\n",
      "35/35 [==============================] - 10s 296ms/step - loss: 0.1273 - accuracy: 0.9600 - val_loss: 1.6060 - val_accuracy: 0.7174\n",
      "Epoch 27/30\n",
      "35/35 [==============================] - 10s 294ms/step - loss: 0.1216 - accuracy: 0.9655 - val_loss: 1.4125 - val_accuracy: 0.7391\n",
      "Epoch 28/30\n",
      "35/35 [==============================] - 10s 296ms/step - loss: 0.0618 - accuracy: 0.9864 - val_loss: 2.0080 - val_accuracy: 0.7826\n",
      "Epoch 29/30\n",
      "35/35 [==============================] - 10s 296ms/step - loss: 0.0554 - accuracy: 0.9873 - val_loss: 1.7869 - val_accuracy: 0.7536\n",
      "Epoch 30/30\n",
      "35/35 [==============================] - 10s 295ms/step - loss: 0.0459 - accuracy: 0.9909 - val_loss: 2.6214 - val_accuracy: 0.7754\n"
     ]
    }
   ],
   "source": [
    "simple_history = simple_model.fit(\n",
    "    X_train, Y_train, \n",
    "    epochs=30, \n",
    "    validation_data=(X_test, Y_test))"
   ]
  },
  {
   "cell_type": "code",
   "execution_count": 25,
   "metadata": {},
   "outputs": [
    {
     "data": {
      "image/png": "[encoded data removed]",
      "text/plain": [
       "<Figure size 720x576 with 1 Axes>"
      ]
     },
     "metadata": {
      "needs_background": "light"
     },
     "output_type": "display_data"
    }
   ],
   "source": [
    "plot_model_accuracy({'simple_model' : simple_history})"
   ]
  },
  {
   "cell_type": "code",
   "execution_count": 27,
   "metadata": {},
   "outputs": [
    {
     "data": {
      "image/png": "[encoded data removed]",
      "text/plain": [
       "<Figure size 720x576 with 1 Axes>"
      ]
     },
     "metadata": {
      "needs_background": "light"
     },
     "output_type": "display_data"
    }
   ],
   "source": [
    "plot_model_loss({'simple_model' : simple_history})"
   ]
  },
  {
   "cell_type": "markdown",
   "metadata": {},
   "source": [
    "As we can see above, the model begins of overfit rather quickly after the fourth epoc.  The model quickly optimizes its weights in the first 4 epochs seeing a consistent drop and divergence in train and validation loss in tandem to concurrent increating in train and validation accuracy. Starting in the fifth epoch, the validation accuracy decreases and loss increases steeply. Prior to overfitting, this model achives performance similar to the API models above."
   ]
  },
  {
   "cell_type": "markdown",
   "metadata": {},
   "source": [
    "#### Build VGG16 model within the hyperparamter space"
   ]
  },
  {
   "cell_type": "markdown",
   "metadata": {},
   "source": [
    "The cells below are not needed to be ran. In fact, they will likely fail due to a memory error received from the hyperparamter space being too large. Below I attempted to use the Keras Tuner library to tune the hyperparamters of the VGG16 model. The first attempt failed because the hp.Int() method only picked one value to modify the filter size per trial. All of the layers ended up with the same filter size. In the second approach I tried to build up the VGG model dynamically by adding a each convolutional module with increasing filter size (ranging from 64 to 512 as in the original model). This crashes the TF kernel as well, so the hyperparameter tuning was largely unsuccessful."
   ]
  },
  {
   "cell_type": "code",
   "execution_count": 113,
   "metadata": {},
   "outputs": [],
   "source": [
    "def build_hyper_vgg16_model_1(hp):\n",
    "    model = Sequential()\n",
    "    \n",
    "    # first stage two layers of 3x3x64\n",
    "    model.add(Conv2D(input_shape=IMAGE_INPUT_SHAPE,\n",
    "        filters=hp.Int('filters',\n",
    "            min_value=32,\n",
    "            max_value=96,\n",
    "            step=32),\n",
    "        activation='relu',\n",
    "        kernel_size=(3,3),\n",
    "        padding=\"same\"))\n",
    "    model.add(Conv2D(filters=hp.Int('filters',\n",
    "            min_value=32,\n",
    "            max_value=96,\n",
    "            step=32),\n",
    "        activation='relu',\n",
    "        kernel_size=(3,3),\n",
    "        padding=\"same\"))\n",
    "    model.add(MaxPool2D(pool_size=(2,2), strides=(2,2)))\n",
    "    \n",
    "    # second stage two layers of 3x3x128\n",
    "    model.add(Conv2D(filters=hp.Int('filters',\n",
    "            min_value=96,\n",
    "            max_value=160,\n",
    "            step=32),\n",
    "        activation='relu',\n",
    "        kernel_size=(3,3),\n",
    "        padding=\"same\"))\n",
    "    model.add(Conv2D(input_shape=IMAGE_INPUT_SHAPE, filters=\n",
    "        hp.Int('filters',\n",
    "            min_value=96,\n",
    "            max_value=160,\n",
    "            step=32),\n",
    "        activation='relu',\n",
    "        kernel_size=(3,3),\n",
    "        padding=\"same\"))\n",
    "    model.add(MaxPool2D(pool_size=(2,2), strides=(2,2)))\n",
    "    \n",
    "    # third stage three layers of 3x3x256\n",
    "    model.add(Conv2D(filters=hp.Int('filters',\n",
    "            min_value=192,\n",
    "            max_value=320,\n",
    "            step=64),\n",
    "        activation='relu',\n",
    "        kernel_size=(3,3),\n",
    "        padding=\"same\"))\n",
    "    model.add(Conv2D(input_shape=IMAGE_INPUT_SHAPE, filters=\n",
    "        hp.Int('filters',\n",
    "            min_value=192,\n",
    "            max_value=320,\n",
    "            step=64),\n",
    "        activation='relu',\n",
    "        kernel_size=(3,3),\n",
    "        padding=\"same\"))\n",
    "    model.add(Conv2D(input_shape=IMAGE_INPUT_SHAPE, filters=\n",
    "        hp.Int('filters',\n",
    "            min_value=192,\n",
    "            max_value=320,\n",
    "            step=64),\n",
    "        activation='relu',\n",
    "        kernel_size=(3,3),\n",
    "        padding=\"same\"))\n",
    "    model.add(MaxPool2D(pool_size=(2,2), strides=(2,2)))\n",
    "    \n",
    "    # fourth stage three layers of 3x3x512\n",
    "    model.add(Conv2D(filters=hp.Int('filters',\n",
    "            min_value=384,\n",
    "            max_value=640,\n",
    "            step=128),\n",
    "        activation='relu',\n",
    "        kernel_size=(3,3),\n",
    "        padding=\"same\"))\n",
    "    model.add(Conv2D(input_shape=IMAGE_INPUT_SHAPE, filters=\n",
    "        hp.Int('filters',\n",
    "            min_value=384,\n",
    "            max_value=640,\n",
    "            step=128),\n",
    "        activation='relu',\n",
    "        kernel_size=(3,3),\n",
    "        padding=\"same\"))\n",
    "    model.add(Conv2D(input_shape=IMAGE_INPUT_SHAPE, filters=\n",
    "        hp.Int('filters',\n",
    "            min_value=384,\n",
    "            max_value=640,\n",
    "            step=128),\n",
    "        activation='relu',\n",
    "        kernel_size=(3,3),\n",
    "        padding=\"same\"))\n",
    "    model.add(MaxPool2D(pool_size=(2,2), strides=(2,2)))\n",
    "    \n",
    "    # fifth stage three layers of 3x3x512\n",
    "    model.add(Conv2D(filters=hp.Int('filters',\n",
    "            min_value=384,\n",
    "            max_value=640,\n",
    "            step=128),\n",
    "        activation='relu',\n",
    "        kernel_size=(3,3),\n",
    "        padding=\"same\"))\n",
    "    model.add(Conv2D(input_shape=IMAGE_INPUT_SHAPE, filters=\n",
    "        hp.Int('filters',\n",
    "            min_value=384,\n",
    "            max_value=640,\n",
    "            step=128),\n",
    "        activation='relu',\n",
    "        kernel_size=(3,3),\n",
    "        padding=\"same\"))\n",
    "    model.add(Conv2D(input_shape=IMAGE_INPUT_SHAPE, filters=\n",
    "        hp.Int('filters',\n",
    "            min_value=384,\n",
    "            max_value=640,\n",
    "            step=128),\n",
    "        activation='relu',\n",
    "        kernel_size=(3,3),\n",
    "        padding=\"same\"))\n",
    "    model.add(MaxPool2D(pool_size=(2,2), strides=(2,2)))\n",
    "    \n",
    "    # sixth stage flatten two relu dense and classification header\n",
    "    model.add(Flatten())\n",
    "    model.add(Dense(units=4096,activation=\"relu\"))\n",
    "    model.add(Dense(units=4096,activation=\"relu\"))\n",
    "    model.add(Dense(units=1, activation=\"sigmoid\"))\n",
    "    \n",
    "    model.compile(\n",
    "        optimizer=tf.keras.optimizers.Adam(\n",
    "            hp.Choice('learning_rate', values=[1e-2, 1e-3, 1e-4])),\n",
    "        loss='binary_crossentropy', \n",
    "        metrics=['accuracy'])\n",
    "    print(model.summary())\n",
    "    return model"
   ]
  },
  {
   "cell_type": "markdown",
   "metadata": {},
   "source": [
    "As can be seen below, the hyperparameter tuner only chose a single filter size value and applied it to all the layers, this doesn't work for our use-case even though the best model still got 81% validation accuracy, which is on par with the most performant model above."
   ]
  },
  {
   "cell_type": "code",
   "execution_count": 116,
   "metadata": {},
   "outputs": [
    {
     "name": "stdout",
     "output_type": "stream",
     "text": [
      "Model: \"sequential\"\n",
      "_________________________________________________________________\n",
      "Layer (type)                 Output Shape              Param #   \n",
      "=================================================================\n",
      "conv2d (Conv2D)              (None, 100, 100, 32)      896       \n",
      "_________________________________________________________________\n",
      "conv2d_1 (Conv2D)            (None, 100, 100, 32)      9248      \n",
      "_________________________________________________________________\n",
      "max_pooling2d (MaxPooling2D) (None, 50, 50, 32)        0         \n",
      "_________________________________________________________________\n",
      "conv2d_2 (Conv2D)            (None, 50, 50, 32)        9248      \n",
      "_________________________________________________________________\n",
      "conv2d_3 (Conv2D)            (None, 50, 50, 32)        9248      \n",
      "_________________________________________________________________\n",
      "max_pooling2d_1 (MaxPooling2 (None, 25, 25, 32)        0         \n",
      "_________________________________________________________________\n",
      "conv2d_4 (Conv2D)            (None, 25, 25, 32)        9248      \n",
      "_________________________________________________________________\n",
      "conv2d_5 (Conv2D)            (None, 25, 25, 32)        9248      \n",
      "_________________________________________________________________\n",
      "conv2d_6 (Conv2D)            (None, 25, 25, 32)        9248      \n",
      "_________________________________________________________________\n",
      "max_pooling2d_2 (MaxPooling2 (None, 12, 12, 32)        0         \n",
      "_________________________________________________________________\n",
      "conv2d_7 (Conv2D)            (None, 12, 12, 32)        9248      \n",
      "_________________________________________________________________\n",
      "conv2d_8 (Conv2D)            (None, 12, 12, 32)        9248      \n",
      "_________________________________________________________________\n",
      "conv2d_9 (Conv2D)            (None, 12, 12, 32)        9248      \n",
      "_________________________________________________________________\n",
      "max_pooling2d_3 (MaxPooling2 (None, 6, 6, 32)          0         \n",
      "_________________________________________________________________\n",
      "conv2d_10 (Conv2D)           (None, 6, 6, 32)          9248      \n",
      "_________________________________________________________________\n",
      "conv2d_11 (Conv2D)           (None, 6, 6, 32)          9248      \n",
      "_________________________________________________________________\n",
      "conv2d_12 (Conv2D)           (None, 6, 6, 32)          9248      \n",
      "_________________________________________________________________\n",
      "max_pooling2d_4 (MaxPooling2 (None, 3, 3, 32)          0         \n",
      "_________________________________________________________________\n",
      "flatten (Flatten)            (None, 288)               0         \n",
      "_________________________________________________________________\n",
      "dense (Dense)                (None, 4096)              1183744   \n",
      "_________________________________________________________________\n",
      "dense_1 (Dense)              (None, 4096)              16781312  \n",
      "_________________________________________________________________\n",
      "dense_2 (Dense)              (None, 1)                 4097      \n",
      "=================================================================\n",
      "Total params: 18,081,025\n",
      "Trainable params: 18,081,025\n",
      "Non-trainable params: 0\n",
      "_________________________________________________________________\n",
      "None\n"
     ]
    }
   ],
   "source": [
    "tuner = RandomSearch(\n",
    "    build_hyper_vgg16_model_1,\n",
    "    objective='val_accuracy',\n",
    "    max_trials=5,\n",
    "    executions_per_trial=3,\n",
    "    directory='log_dir',\n",
    "    project_name='solar_pv_class')"
   ]
  },
  {
   "cell_type": "code",
   "execution_count": 117,
   "metadata": {},
   "outputs": [
    {
     "name": "stdout",
     "output_type": "stream",
     "text": [
      "Search space summary\n",
      "Default search space size: 2\n",
      "filters (Int)\n",
      "{'default': None, 'conditions': [], 'min_value': 32, 'max_value': 96, 'step': 32, 'sampling': None}\n",
      "learning_rate (Choice)\n",
      "{'default': 0.01, 'conditions': [], 'values': [0.01, 0.001, 0.0001], 'ordered': True}\n"
     ]
    }
   ],
   "source": [
    "tuner.search_space_summary()"
   ]
  },
  {
   "cell_type": "code",
   "execution_count": 119,
   "metadata": {
    "scrolled": true
   },
   "outputs": [
    {
     "name": "stdout",
     "output_type": "stream",
     "text": [
      "Trial 5 Complete [00h 00m 50s]\n",
      "val_accuracy: 0.5\n",
      "\n",
      "Best val_accuracy So Far: 0.8128019173940023\n",
      "Total elapsed time: 00h 03m 20s\n",
      "INFO:tensorflow:Oracle triggered exit\n"
     ]
    }
   ],
   "source": [
    "tuner.search(X_train, Y_train, \n",
    "    epochs=5, \n",
    "    validation_data=(X_test, Y_test))"
   ]
  },
  {
   "cell_type": "code",
   "execution_count": 120,
   "metadata": {},
   "outputs": [
    {
     "name": "stdout",
     "output_type": "stream",
     "text": [
      "Model: \"sequential\"\n",
      "_________________________________________________________________\n",
      "Layer (type)                 Output Shape              Param #   \n",
      "=================================================================\n",
      "conv2d (Conv2D)              (None, 100, 100, 96)      2688      \n",
      "_________________________________________________________________\n",
      "conv2d_1 (Conv2D)            (None, 100, 100, 96)      83040     \n",
      "_________________________________________________________________\n",
      "max_pooling2d (MaxPooling2D) (None, 50, 50, 96)        0         \n",
      "_________________________________________________________________\n",
      "conv2d_2 (Conv2D)            (None, 50, 50, 96)        83040     \n",
      "_________________________________________________________________\n",
      "conv2d_3 (Conv2D)            (None, 50, 50, 96)        83040     \n",
      "_________________________________________________________________\n",
      "max_pooling2d_1 (MaxPooling2 (None, 25, 25, 96)        0         \n",
      "_________________________________________________________________\n",
      "conv2d_4 (Conv2D)            (None, 25, 25, 96)        83040     \n",
      "_________________________________________________________________\n",
      "conv2d_5 (Conv2D)            (None, 25, 25, 96)        83040     \n",
      "_________________________________________________________________\n",
      "conv2d_6 (Conv2D)            (None, 25, 25, 96)        83040     \n",
      "_________________________________________________________________\n",
      "max_pooling2d_2 (MaxPooling2 (None, 12, 12, 96)        0         \n",
      "_________________________________________________________________\n",
      "conv2d_7 (Conv2D)            (None, 12, 12, 96)        83040     \n",
      "_________________________________________________________________\n",
      "conv2d_8 (Conv2D)            (None, 12, 12, 96)        83040     \n",
      "_________________________________________________________________\n",
      "conv2d_9 (Conv2D)            (None, 12, 12, 96)        83040     \n",
      "_________________________________________________________________\n",
      "max_pooling2d_3 (MaxPooling2 (None, 6, 6, 96)          0         \n",
      "_________________________________________________________________\n",
      "conv2d_10 (Conv2D)           (None, 6, 6, 96)          83040     \n",
      "_________________________________________________________________\n",
      "conv2d_11 (Conv2D)           (None, 6, 6, 96)          83040     \n",
      "_________________________________________________________________\n",
      "conv2d_12 (Conv2D)           (None, 6, 6, 96)          83040     \n",
      "_________________________________________________________________\n",
      "max_pooling2d_4 (MaxPooling2 (None, 3, 3, 96)          0         \n",
      "_________________________________________________________________\n",
      "flatten (Flatten)            (None, 864)               0         \n",
      "_________________________________________________________________\n",
      "dense (Dense)                (None, 4096)              3543040   \n",
      "_________________________________________________________________\n",
      "dense_1 (Dense)              (None, 4096)              16781312  \n",
      "_________________________________________________________________\n",
      "dense_2 (Dense)              (None, 1)                 4097      \n",
      "=================================================================\n",
      "Total params: 21,327,617\n",
      "Trainable params: 21,327,617\n",
      "Non-trainable params: 0\n",
      "_________________________________________________________________\n",
      "None\n"
     ]
    },
    {
     "data": {
      "text/plain": [
       "[<tensorflow.python.keras.engine.sequential.Sequential at 0x2481f1af5f8>]"
      ]
     },
     "execution_count": 120,
     "metadata": {},
     "output_type": "execute_result"
    }
   ],
   "source": [
    "tuner.get_best_models(num_models=1)"
   ]
  },
  {
   "cell_type": "markdown",
   "metadata": {},
   "source": [
    "Because of the issue in imlementing the Keras Tuner library above on each convolutional layer of the VGG16 model, I need to dynamically build up the model, where each layer is at the scale respective to that stage in the model."
   ]
  },
  {
   "cell_type": "code",
   "execution_count": 27,
   "metadata": {},
   "outputs": [],
   "source": [
    "def build_hyper_vgg16_model_2(hp):\n",
    "    inputs = tf.keras.Input(shape=IMAGE_INPUT_SHAPE)\n",
    "    x = inputs\n",
    "    for i in range(1, 6):\n",
    "        if i == 1:\n",
    "            x = Conv2D(\n",
    "                filters=hp.Int('filters_' + str(i),\n",
    "                    32, 96, step=32, default=64),\n",
    "                kernel_size=(3,3),\n",
    "                activation='relu',\n",
    "                padding='same')(x)\n",
    "        if i == 2:\n",
    "            x = Conv2D(\n",
    "                filters=hp.Int('filters_' + str(i),\n",
    "                    96, 160, step=32, default=128),\n",
    "                kernel_size=(3,3),\n",
    "                activation='relu',\n",
    "                padding='same')(x)\n",
    "        elif i == 3:\n",
    "            x = Conv2D(\n",
    "                filters=hp.Int('filters_' + str(i),\n",
    "                    192, 320, step=64, default=256),\n",
    "                kernel_size=(3,3),\n",
    "                activation='relu',\n",
    "                padding='same')(x)            \n",
    "        else:\n",
    "            for j in range(1, 3):\n",
    "                x = Conv2D(\n",
    "                    filters=hp.Int('filters_' + str(i),\n",
    "                        384, 640, step=128, default=512),\n",
    "                    kernel_size=(3,3),\n",
    "                    activation='relu',\n",
    "                    padding='same')(x)\n",
    "                \n",
    "        x = MaxPool2D(pool_size=(2,2), strides=(2,2))(x)\n",
    "        \n",
    "    x = Flatten()(x)\n",
    "    x = Dense(units=4096,activation=\"relu\")(x)\n",
    "    x = Dense(units=4096,activation=\"relu\")(x)\n",
    "    outputs = Dense(units=1, activation=\"sigmoid\")(x)\n",
    "    model = tf.keras.Model(inputs, outputs)\n",
    "    \n",
    "    model.compile(\n",
    "        optimizer=tf.keras.optimizers.Adam(\n",
    "            hp.Choice('learning_rate', values=[1e-2, 1e-3, 1e-4])),\n",
    "        loss='binary_crossentropy', \n",
    "        metrics=['accuracy'])\n",
    "    print(model.summary())\n",
    "    \n",
    "    return model"
   ]
  },
  {
   "cell_type": "code",
   "execution_count": 28,
   "metadata": {},
   "outputs": [
    {
     "name": "stdout",
     "output_type": "stream",
     "text": [
      "Model: \"functional_1\"\n",
      "_________________________________________________________________\n",
      "Layer (type)                 Output Shape              Param #   \n",
      "=================================================================\n",
      "input_1 (InputLayer)         [(None, 100, 100, 3)]     0         \n",
      "_________________________________________________________________\n",
      "conv2d (Conv2D)              (None, 100, 100, 64)      1792      \n",
      "_________________________________________________________________\n",
      "conv2d_1 (Conv2D)            (None, 100, 100, 64)      36928     \n",
      "_________________________________________________________________\n",
      "conv2d_2 (Conv2D)            (None, 100, 100, 64)      36928     \n",
      "_________________________________________________________________\n",
      "max_pooling2d (MaxPooling2D) (None, 50, 50, 64)        0         \n",
      "_________________________________________________________________\n",
      "conv2d_3 (Conv2D)            (None, 50, 50, 128)       73856     \n",
      "_________________________________________________________________\n",
      "max_pooling2d_1 (MaxPooling2 (None, 25, 25, 128)       0         \n",
      "_________________________________________________________________\n",
      "conv2d_4 (Conv2D)            (None, 25, 25, 256)       295168    \n",
      "_________________________________________________________________\n",
      "max_pooling2d_2 (MaxPooling2 (None, 12, 12, 256)       0         \n",
      "_________________________________________________________________\n",
      "conv2d_5 (Conv2D)            (None, 12, 12, 512)       1180160   \n",
      "_________________________________________________________________\n",
      "conv2d_6 (Conv2D)            (None, 12, 12, 512)       2359808   \n",
      "_________________________________________________________________\n",
      "max_pooling2d_3 (MaxPooling2 (None, 6, 6, 512)         0         \n",
      "_________________________________________________________________\n",
      "conv2d_7 (Conv2D)            (None, 6, 6, 512)         2359808   \n",
      "_________________________________________________________________\n",
      "conv2d_8 (Conv2D)            (None, 6, 6, 512)         2359808   \n",
      "_________________________________________________________________\n",
      "max_pooling2d_4 (MaxPooling2 (None, 3, 3, 512)         0         \n",
      "_________________________________________________________________\n",
      "flatten (Flatten)            (None, 4608)              0         \n",
      "_________________________________________________________________\n",
      "dense (Dense)                (None, 4096)              18878464  \n",
      "_________________________________________________________________\n",
      "dense_1 (Dense)              (None, 4096)              16781312  \n",
      "_________________________________________________________________\n",
      "dense_2 (Dense)              (None, 1)                 4097      \n",
      "=================================================================\n",
      "Total params: 44,368,129\n",
      "Trainable params: 44,368,129\n",
      "Non-trainable params: 0\n",
      "_________________________________________________________________\n",
      "None\n"
     ]
    }
   ],
   "source": [
    "hyper_tuner = RandomSearch(\n",
    "    build_hyper_vgg16_model_2,\n",
    "    objective='val_accuracy',\n",
    "    max_trials=1,\n",
    "    executions_per_trial=3,\n",
    "    directory='log_dir_2',\n",
    "    project_name='solar_pv_class')"
   ]
  },
  {
   "cell_type": "code",
   "execution_count": 29,
   "metadata": {},
   "outputs": [
    {
     "name": "stdout",
     "output_type": "stream",
     "text": [
      "Search space summary\n",
      "Default search space size: 6\n",
      "filters_1 (Int)\n",
      "{'default': 64, 'conditions': [], 'min_value': 32, 'max_value': 96, 'step': 32, 'sampling': None}\n",
      "filters_2 (Int)\n",
      "{'default': 128, 'conditions': [], 'min_value': 96, 'max_value': 160, 'step': 32, 'sampling': None}\n",
      "filters_3 (Int)\n",
      "{'default': 256, 'conditions': [], 'min_value': 192, 'max_value': 320, 'step': 64, 'sampling': None}\n",
      "filters_4 (Int)\n",
      "{'default': 512, 'conditions': [], 'min_value': 384, 'max_value': 640, 'step': 128, 'sampling': None}\n",
      "filters_5 (Int)\n",
      "{'default': 512, 'conditions': [], 'min_value': 384, 'max_value': 640, 'step': 128, 'sampling': None}\n",
      "learning_rate (Choice)\n",
      "{'default': 0.01, 'conditions': [], 'values': [0.01, 0.001, 0.0001], 'ordered': True}\n"
     ]
    }
   ],
   "source": [
    "hyper_tuner.search_space_summary()"
   ]
  },
  {
   "cell_type": "code",
   "execution_count": 30,
   "metadata": {
    "scrolled": true
   },
   "outputs": [
    {
     "name": "stdout",
     "output_type": "stream",
     "text": [
      "Trial 1 Complete [00h 01m 57s]\n",
      "val_accuracy: 0.5\n",
      "\n",
      "Best val_accuracy So Far: 0.5\n",
      "Total elapsed time: 00h 01m 57s\n",
      "INFO:tensorflow:Oracle triggered exit\n"
     ]
    }
   ],
   "source": [
    "hyper_tuner.search(X_train, Y_train, \n",
    "    epochs=10, \n",
    "    validation_data=(X_test, Y_test))"
   ]
  },
  {
   "cell_type": "code",
   "execution_count": 31,
   "metadata": {},
   "outputs": [
    {
     "name": "stdout",
     "output_type": "stream",
     "text": [
      "Model: \"functional_1\"\n",
      "_________________________________________________________________\n",
      "Layer (type)                 Output Shape              Param #   \n",
      "=================================================================\n",
      "input_1 (InputLayer)         [(None, 100, 100, 3)]     0         \n",
      "_________________________________________________________________\n",
      "conv2d (Conv2D)              (None, 100, 100, 96)      2688      \n",
      "_________________________________________________________________\n",
      "conv2d_1 (Conv2D)            (None, 100, 100, 96)      83040     \n",
      "_________________________________________________________________\n",
      "conv2d_2 (Conv2D)            (None, 100, 100, 96)      83040     \n",
      "_________________________________________________________________\n",
      "max_pooling2d (MaxPooling2D) (None, 50, 50, 96)        0         \n",
      "_________________________________________________________________\n",
      "conv2d_3 (Conv2D)            (None, 50, 50, 128)       110720    \n",
      "_________________________________________________________________\n",
      "max_pooling2d_1 (MaxPooling2 (None, 25, 25, 128)       0         \n",
      "_________________________________________________________________\n",
      "conv2d_4 (Conv2D)            (None, 25, 25, 320)       368960    \n",
      "_________________________________________________________________\n",
      "max_pooling2d_2 (MaxPooling2 (None, 12, 12, 320)       0         \n",
      "_________________________________________________________________\n",
      "conv2d_5 (Conv2D)            (None, 12, 12, 384)       1106304   \n",
      "_________________________________________________________________\n",
      "conv2d_6 (Conv2D)            (None, 12, 12, 384)       1327488   \n",
      "_________________________________________________________________\n",
      "max_pooling2d_3 (MaxPooling2 (None, 6, 6, 384)         0         \n",
      "_________________________________________________________________\n",
      "conv2d_7 (Conv2D)            (None, 6, 6, 512)         1769984   \n",
      "_________________________________________________________________\n",
      "conv2d_8 (Conv2D)            (None, 6, 6, 512)         2359808   \n",
      "_________________________________________________________________\n",
      "max_pooling2d_4 (MaxPooling2 (None, 3, 3, 512)         0         \n",
      "_________________________________________________________________\n",
      "flatten (Flatten)            (None, 4608)              0         \n",
      "_________________________________________________________________\n",
      "dense (Dense)                (None, 4096)              18878464  \n",
      "_________________________________________________________________\n",
      "dense_1 (Dense)              (None, 4096)              16781312  \n",
      "_________________________________________________________________\n",
      "dense_2 (Dense)              (None, 1)                 4097      \n",
      "=================================================================\n",
      "Total params: 42,875,905\n",
      "Trainable params: 42,875,905\n",
      "Non-trainable params: 0\n",
      "_________________________________________________________________\n",
      "None\n"
     ]
    },
    {
     "data": {
      "text/plain": [
       "[<tensorflow.python.keras.engine.functional.Functional at 0x2aecc6d3a58>]"
      ]
     },
     "execution_count": 31,
     "metadata": {},
     "output_type": "execute_result"
    }
   ],
   "source": [
    "hyper_tuner.get_best_models(num_models=1)"
   ]
  },
  {
   "cell_type": "markdown",
   "metadata": {},
   "source": [
    "I keep running out of memory when attempting to run all hyperparater tuning options through the Keras Tuner. Perhaps this would be possible by using an iterative approach to manually building out the tuning infrastructure, but I don't believe this is worth my time. One other option would be to run this same script in a CoLab notebook or somewhere leveraging scalable computing resources."
   ]
  },
  {
   "cell_type": "markdown",
   "metadata": {},
   "source": [
    "## Appendix"
   ]
  },
  {
   "cell_type": "markdown",
   "metadata": {},
   "source": [
    "### Summary of VGG, Inception and ResNet Architectures"
   ]
  },
  {
   "cell_type": "markdown",
   "metadata": {},
   "source": [
    "![title](https://i.pinimg.com/originals/3a/01/b4/3a01b4e0f4daba9863b16a006d36f113.png)"
   ]
  },
  {
   "cell_type": "code",
   "execution_count": null,
   "metadata": {},
   "outputs": [],
   "source": []
  }
 ],
 "metadata": {
  "kernelspec": {
   "display_name": "Python 3",
   "language": "python",
   "name": "python3"
  },
  "language_info": {
   "codemirror_mode": {
    "name": "ipython",
    "version": 3
   },
   "file_extension": ".py",
   "mimetype": "text/x-python",
   "name": "python",
   "nbconvert_exporter": "python",
   "pygments_lexer": "ipython3",
   "version": "3.6.11"
  }
 },
 "nbformat": 4,
 "nbformat_minor": 4
}
